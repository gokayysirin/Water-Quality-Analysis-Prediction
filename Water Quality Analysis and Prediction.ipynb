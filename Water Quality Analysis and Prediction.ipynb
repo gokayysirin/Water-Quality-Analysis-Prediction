{
 "cells": [
  {
   "cell_type": "markdown",
   "metadata": {},
   "source": [
    "<a href=\"https://www.kaggle.com/code/gokaysirin/water-quality-analysis-prediction?scriptVersionId=200136215\" target=\"_blank\"><img align=\"left\" alt=\"Kaggle\" title=\"Open in Kaggle\" src=\"https://kaggle.com/static/images/open-in-kaggle.svg\"></a>"
   ]
  },
  {
   "cell_type": "markdown",
   "metadata": {},
   "source": [
    "# Welcome to the Water Quality Dataset!\n",
    "* In this dataset, we will analyze and predict water quality (specifically, whether it is drinkable or non-drinkable) using various metrics.\n",
    "\n",
    "* It must be said, it is a great shame for humanity that in the 21st century, there are still people without access to clean water. Let’s hope this issue is resolved as soon as possible!"
   ]
  },
  {
   "cell_type": "markdown",
   "metadata": {},
   "source": [
    "## A Quick Overview of the Data.\n",
    "\n",
    "#### Water Quality Parameters Summary\n",
    "\n",
    "1. **pH Value**:  \n",
    "   pH indicates the acid-base balance of water. WHO recommends a pH range of 6.5 to 8.5. Current investigation shows values between 6.52 and 6.83, which are within this range.\n",
    "\n",
    "2. **Hardness**:  \n",
    "   Hardness is caused by dissolved calcium and magnesium salts, impacting water's ability to lather soap. It is determined by the contact time between water and geological deposits.\n",
    "\n",
    "3. **Total Dissolved Solids (TDS)**:  \n",
    "   TDS measures dissolved inorganic and organic minerals. A high TDS value indicates highly mineralized water. The desirable limit is 500 mg/L, with a maximum of 1000 mg/L for drinking purposes.\n",
    "\n",
    "4. **Chloramines**:  \n",
    "   Formed when ammonia is added to chlorine, chloramines disinfect water. Levels up to 4 mg/L are safe for drinking.\n",
    "\n",
    "5. **Sulfate**:  \n",
    "   Sulfates are naturally occurring and prevalent in soil and rocks. Concentrations in freshwater range from 3 to 30 mg/L, with some areas having higher levels up to 1000 mg/L.\n",
    "\n",
    "6. **Conductivity**:  \n",
    "   Electrical conductivity increases with the concentration of dissolved ions. WHO recommends a maximum conductivity of 400 μS/cm.\n",
    "\n",
    "7. **Total Organic Carbon (TOC)**:  \n",
    "   TOC measures carbon from organic compounds. For drinking water, TOC should be less than 2 mg/L, with source water having up to 4 mg/L.\n",
    "\n",
    "8. **Trihalomethanes (THMs)**:  \n",
    "   Formed during chlorine treatment, THMs should not exceed 80 ppm in drinking water.\n",
    "\n",
    "9. **Turbidity**:  \n",
    "   A measure of water clarity, affected by suspended solids. WHO recommends a turbidity value below 5 NTU, with 0.98 NTU observed in the study.\n",
    "\n",
    "10. **Potability**:  \n",
    "    Indicates if water is safe for consumption, where 1 means potable and 0 means not potable.\n"
   ]
  },
  {
   "cell_type": "markdown",
   "metadata": {},
   "source": [
    "## What are We Going to Do?\n",
    "* Data Preprocessing\n",
    "* Missing Data Analysis\n",
    "* Data Visualization\n",
    "* Model Building with sklearn Library"
   ]
  },
  {
   "cell_type": "markdown",
   "metadata": {},
   "source": [
    "# Data Preproccessing"
   ]
  },
  {
   "cell_type": "markdown",
   "metadata": {},
   "source": [
    "## Import Libraries"
   ]
  },
  {
   "cell_type": "code",
   "execution_count": null,
   "metadata": {
    "execution": {
     "iopub.execute_input": "2024-10-09T07:02:41.439035Z",
     "iopub.status.busy": "2024-10-09T07:02:41.438506Z",
     "iopub.status.idle": "2024-10-09T07:02:41.448225Z",
     "shell.execute_reply": "2024-10-09T07:02:41.446695Z",
     "shell.execute_reply.started": "2024-10-09T07:02:41.438986Z"
    },
    "trusted": true
   },
   "outputs": [],
   "source": [
    "import pandas as pd\n",
    "import numpy as np\n",
    "import matplotlib.pyplot as plt\n",
    "import seaborn as sns\n",
    "from sklearn.model_selection import train_test_split\n",
    "from sklearn.linear_model import LinearRegression\n",
    "from sklearn.metrics import accuracy_score,classification_report,ConfusionMatrixDisplay,precision_score,confusion_matrix\n",
    "import plotly.express as px\n",
    "from sklearn.tree import DecisionTreeClassifier\n",
    "from sklearn.ensemble import RandomForestClassifier\n",
    "from sklearn.model_selection import RandomizedSearchCV,RepeatedStratifiedKFold,cross_val_score\n",
    "import missingno as msno\n",
    "from sklearn.preprocessing import MinMaxScaler\n",
    "from sklearn.linear_model import LogisticRegression\n",
    "from sklearn.svm import SVC\n",
    "from sklearn.neighbors import KNeighborsClassifier\n",
    "from sklearn.ensemble import GradientBoostingClassifier"
   ]
  },
  {
   "cell_type": "markdown",
   "metadata": {},
   "source": [
    "## Import Dataset&Take a Look"
   ]
  },
  {
   "cell_type": "code",
   "execution_count": null,
   "metadata": {
    "execution": {
     "iopub.execute_input": "2024-10-09T07:02:41.4511Z",
     "iopub.status.busy": "2024-10-09T07:02:41.450552Z",
     "iopub.status.idle": "2024-10-09T07:02:41.527418Z",
     "shell.execute_reply": "2024-10-09T07:02:41.525834Z",
     "shell.execute_reply.started": "2024-10-09T07:02:41.45104Z"
    },
    "trusted": true
   },
   "outputs": [],
   "source": [
    "df = pd.read_csv(\"/kaggle/input/water-potability/water_potability.csv\")\n",
    "df.head()"
   ]
  },
  {
   "cell_type": "markdown",
   "metadata": {},
   "source": [
    "* It seems that we have some missing data, so we’ve got some work ahead of us! :)\n"
   ]
  },
  {
   "cell_type": "code",
   "execution_count": null,
   "metadata": {
    "execution": {
     "iopub.execute_input": "2024-10-09T07:02:41.530863Z",
     "iopub.status.busy": "2024-10-09T07:02:41.530227Z",
     "iopub.status.idle": "2024-10-09T07:02:41.582185Z",
     "shell.execute_reply": "2024-10-09T07:02:41.580894Z",
     "shell.execute_reply.started": "2024-10-09T07:02:41.530802Z"
    },
    "trusted": true
   },
   "outputs": [],
   "source": [
    "df.describe()"
   ]
  },
  {
   "cell_type": "markdown",
   "metadata": {},
   "source": [
    "* We have columns with different ranges, for example, the Trihalomethanes column ranges from 0.73 to 124, while the pH column has values between 0 and 14. In the upcoming steps, we will scale these values to enhance our analysis processes."
   ]
  },
  {
   "cell_type": "markdown",
   "metadata": {},
   "source": [
    "## Missing Value Analysis"
   ]
  },
  {
   "cell_type": "code",
   "execution_count": null,
   "metadata": {
    "execution": {
     "iopub.execute_input": "2024-10-09T07:02:41.583953Z",
     "iopub.status.busy": "2024-10-09T07:02:41.583563Z",
     "iopub.status.idle": "2024-10-09T07:02:41.59769Z",
     "shell.execute_reply": "2024-10-09T07:02:41.596267Z",
     "shell.execute_reply.started": "2024-10-09T07:02:41.583912Z"
    },
    "trusted": true
   },
   "outputs": [],
   "source": [
    "df.info()"
   ]
  },
  {
   "cell_type": "markdown",
   "metadata": {},
   "source": [
    "* We have missing data in the pH, Sulfate, and Trihalomethanes columns. We will fill these gaps with the mean values, thus addressing the missing data without affecting the relationships between the columns."
   ]
  },
  {
   "cell_type": "code",
   "execution_count": null,
   "metadata": {
    "execution": {
     "iopub.execute_input": "2024-10-09T07:02:41.601549Z",
     "iopub.status.busy": "2024-10-09T07:02:41.601069Z",
     "iopub.status.idle": "2024-10-09T07:02:41.618239Z",
     "shell.execute_reply": "2024-10-09T07:02:41.616778Z",
     "shell.execute_reply.started": "2024-10-09T07:02:41.601494Z"
    },
    "trusted": true
   },
   "outputs": [],
   "source": [
    "df[\"ph\"] = df[\"ph\"].fillna(value=df[\"ph\"].mean())\n",
    "df[\"Sulfate\"] = df[\"Sulfate\"].fillna(value=df[\"Sulfate\"].mean())\n",
    "df[\"Trihalomethanes\"] = df[\"Trihalomethanes\"].fillna(value=df[\"Trihalomethanes\"].mean())"
   ]
  },
  {
   "cell_type": "markdown",
   "metadata": {},
   "source": [
    "* Just to be safe, let's double-check!"
   ]
  },
  {
   "cell_type": "code",
   "execution_count": null,
   "metadata": {
    "execution": {
     "iopub.execute_input": "2024-10-09T07:02:41.620673Z",
     "iopub.status.busy": "2024-10-09T07:02:41.620066Z",
     "iopub.status.idle": "2024-10-09T07:02:41.643736Z",
     "shell.execute_reply": "2024-10-09T07:02:41.642115Z",
     "shell.execute_reply.started": "2024-10-09T07:02:41.620605Z"
    },
    "trusted": true
   },
   "outputs": [],
   "source": [
    "df.info()"
   ]
  },
  {
   "cell_type": "markdown",
   "metadata": {},
   "source": [
    "* Everything is ready, let’s move forward!"
   ]
  },
  {
   "cell_type": "markdown",
   "metadata": {},
   "source": [
    "# Data Visualization"
   ]
  },
  {
   "cell_type": "code",
   "execution_count": null,
   "metadata": {
    "execution": {
     "iopub.execute_input": "2024-10-09T07:02:41.646659Z",
     "iopub.status.busy": "2024-10-09T07:02:41.645812Z",
     "iopub.status.idle": "2024-10-09T07:02:41.926209Z",
     "shell.execute_reply": "2024-10-09T07:02:41.924674Z",
     "shell.execute_reply.started": "2024-10-09T07:02:41.646605Z"
    },
    "trusted": true
   },
   "outputs": [],
   "source": [
    "plt.figure(figsize=(8, 6))\n",
    "ax = sns.countplot(data=df, x=\"Potability\", palette=\"deep\")\n",
    "\n",
    "# Calculate percentages\n",
    "total = len(df)\n",
    "for p in ax.patches:\n",
    "    percentage = f'{100 * p.get_height() / total:.2f}%'\n",
    "    ax.annotate(percentage, \n",
    "                (p.get_x() + p.get_width() / 2., p.get_height()), \n",
    "                ha = 'center', va = 'baseline', \n",
    "                fontsize = 12, color = 'black', xytext = (0, 5), \n",
    "                textcoords = 'offset points')\n",
    "\n",
    "# Show plot\n",
    "plt.title(\"Potability Count with Percentages\")\n",
    "plt.show()"
   ]
  },
  {
   "cell_type": "markdown",
   "metadata": {},
   "source": [
    "* The majority of our data consists of non-drinkable water samples."
   ]
  },
  {
   "cell_type": "code",
   "execution_count": null,
   "metadata": {
    "execution": {
     "iopub.execute_input": "2024-10-09T07:02:41.930136Z",
     "iopub.status.busy": "2024-10-09T07:02:41.929687Z",
     "iopub.status.idle": "2024-10-09T07:02:43.092583Z",
     "shell.execute_reply": "2024-10-09T07:02:43.091207Z",
     "shell.execute_reply.started": "2024-10-09T07:02:41.930091Z"
    },
    "trusted": true
   },
   "outputs": [],
   "source": [
    "sns.clustermap(df.corr(), cmap=\"vlag\",dendrogram_ratio=(0.1,0.2),annot=True,linewidth=.8,figsize=(9,10))"
   ]
  },
  {
   "cell_type": "markdown",
   "metadata": {},
   "source": [
    "> There could be several possible reasons for the low correlations. For instance, the water samples in our dataset might have been collected from a wide variety of different sources. A lack of variation in our dataset could also lead to the same issue. Additionally, if the analyzed data was collected at different times or locations, it could contribute to the low correlations. For example, some parameters might vary seasonally."
   ]
  },
  {
   "cell_type": "code",
   "execution_count": null,
   "metadata": {
    "execution": {
     "iopub.execute_input": "2024-10-09T07:02:43.094737Z",
     "iopub.status.busy": "2024-10-09T07:02:43.094343Z",
     "iopub.status.idle": "2024-10-09T07:02:47.034412Z",
     "shell.execute_reply": "2024-10-09T07:02:47.032485Z",
     "shell.execute_reply.started": "2024-10-09T07:02:43.094698Z"
    },
    "trusted": true
   },
   "outputs": [],
   "source": [
    "potability_zero = df.query(\"Potability == 0\")\n",
    "potable = df.query(\"Potability == 1\")\n",
    "\n",
    "plt.figure(figsize = (15,15))\n",
    "for ax, col in enumerate(df.columns[:9]):\n",
    "    plt.subplot(3,3,ax+1)\n",
    "    plt.title(col)\n",
    "    sns.kdeplot(x=potability_zero[col],label = \"Non Potable\")\n",
    "    sns.kdeplot(x = potable[col],label = \"Potable\")\n",
    "    plt.legend()\n",
    "plt.tight_layout()"
   ]
  },
  {
   "cell_type": "markdown",
   "metadata": {},
   "source": [
    "> In some column relationships, the data for drinkable and non-drinkable water appears almost identical. Fortunately, a few values like pH and Sulfate seem like they might help our model."
   ]
  },
  {
   "cell_type": "code",
   "execution_count": null,
   "metadata": {
    "execution": {
     "iopub.execute_input": "2024-10-09T07:02:47.037634Z",
     "iopub.status.busy": "2024-10-09T07:02:47.037035Z",
     "iopub.status.idle": "2024-10-09T07:02:47.361457Z",
     "shell.execute_reply": "2024-10-09T07:02:47.36009Z",
     "shell.execute_reply.started": "2024-10-09T07:02:47.037579Z"
    },
    "trusted": true
   },
   "outputs": [],
   "source": [
    "sns.scatterplot(x=\"ph\",y=\"Potability\",data=df)"
   ]
  },
  {
   "cell_type": "markdown",
   "metadata": {},
   "source": [
    "# Modelling"
   ]
  },
  {
   "cell_type": "markdown",
   "metadata": {},
   "source": [
    "## Train Test Split"
   ]
  },
  {
   "cell_type": "code",
   "execution_count": null,
   "metadata": {
    "execution": {
     "iopub.execute_input": "2024-10-09T07:02:47.365928Z",
     "iopub.status.busy": "2024-10-09T07:02:47.365479Z",
     "iopub.status.idle": "2024-10-09T07:02:47.374056Z",
     "shell.execute_reply": "2024-10-09T07:02:47.372797Z",
     "shell.execute_reply.started": "2024-10-09T07:02:47.365884Z"
    },
    "trusted": true
   },
   "outputs": [],
   "source": [
    "X = df.drop(\"Potability\",axis=1)\n",
    "y= df[\"Potability\"]"
   ]
  },
  {
   "cell_type": "code",
   "execution_count": null,
   "metadata": {
    "execution": {
     "iopub.execute_input": "2024-10-09T07:02:47.375998Z",
     "iopub.status.busy": "2024-10-09T07:02:47.375569Z",
     "iopub.status.idle": "2024-10-09T07:02:47.388264Z",
     "shell.execute_reply": "2024-10-09T07:02:47.387068Z",
     "shell.execute_reply.started": "2024-10-09T07:02:47.37595Z"
    },
    "trusted": true
   },
   "outputs": [],
   "source": [
    "X_train,X_test,y_train,y_test = train_test_split(X,y,test_size=0.2,random_state=13)"
   ]
  },
  {
   "cell_type": "markdown",
   "metadata": {},
   "source": [
    "## Scaling"
   ]
  },
  {
   "cell_type": "code",
   "execution_count": null,
   "metadata": {
    "execution": {
     "iopub.execute_input": "2024-10-09T07:02:47.390744Z",
     "iopub.status.busy": "2024-10-09T07:02:47.390202Z",
     "iopub.status.idle": "2024-10-09T07:02:47.409936Z",
     "shell.execute_reply": "2024-10-09T07:02:47.4079Z",
     "shell.execute_reply.started": "2024-10-09T07:02:47.390688Z"
    },
    "trusted": true
   },
   "outputs": [],
   "source": [
    "scaler = MinMaxScaler()\n",
    "X_train_scaled = scaler.fit_transform(X_train)\n",
    "X_test_scaled = scaler.fit_transform(X_test)"
   ]
  },
  {
   "cell_type": "markdown",
   "metadata": {},
   "source": [
    "## Model Building"
   ]
  },
  {
   "cell_type": "code",
   "execution_count": null,
   "metadata": {
    "execution": {
     "iopub.execute_input": "2024-10-09T07:02:47.412288Z",
     "iopub.status.busy": "2024-10-09T07:02:47.411794Z",
     "iopub.status.idle": "2024-10-09T07:02:47.421388Z",
     "shell.execute_reply": "2024-10-09T07:02:47.419543Z",
     "shell.execute_reply.started": "2024-10-09T07:02:47.412225Z"
    },
    "trusted": true
   },
   "outputs": [],
   "source": [
    "models =[\n",
    "    (\"Decision Tree Classifier\", DecisionTreeClassifier(max_depth=3)),\n",
    "    (\"Random Forest\", RandomForestClassifier())\n",
    "]"
   ]
  },
  {
   "cell_type": "code",
   "execution_count": null,
   "metadata": {
    "execution": {
     "iopub.execute_input": "2024-10-09T07:02:47.423942Z",
     "iopub.status.busy": "2024-10-09T07:02:47.423351Z",
     "iopub.status.idle": "2024-10-09T07:02:48.654402Z",
     "shell.execute_reply": "2024-10-09T07:02:48.653126Z",
     "shell.execute_reply.started": "2024-10-09T07:02:47.423881Z"
    },
    "trusted": true
   },
   "outputs": [],
   "source": [
    "finalResults = []\n",
    "\n",
    "cmList = []\n",
    "\n",
    "for name, model in models:\n",
    "    model.fit(X_train_scaled,y_train)\n",
    "    model_result = model.predict(X_test_scaled)\n",
    "    score = precision_score(y_test,model_result)\n",
    "    cm = confusion_matrix(y_test, model_result)\n",
    "\n",
    "    finalResults.append((name,score))\n",
    "    cmList.append((name,cm))\n",
    "finalResults"
   ]
  },
  {
   "cell_type": "markdown",
   "metadata": {},
   "source": [
    "* Although these are not the worst results in the world, they are definitely not great either. Let's first take a look at the Confusion Matrix, and then we’ll work on improving our model."
   ]
  },
  {
   "cell_type": "code",
   "execution_count": null,
   "metadata": {
    "execution": {
     "iopub.execute_input": "2024-10-09T07:02:48.656444Z",
     "iopub.status.busy": "2024-10-09T07:02:48.656016Z",
     "iopub.status.idle": "2024-10-09T07:02:49.340511Z",
     "shell.execute_reply": "2024-10-09T07:02:49.339245Z",
     "shell.execute_reply.started": "2024-10-09T07:02:48.656401Z"
    },
    "trusted": true
   },
   "outputs": [],
   "source": [
    "for name, i in cmList:\n",
    "    plt.figure()\n",
    "    sns.heatmap(i,annot=True,linewidths=0.7,fmt=\".1f\")\n",
    "    plt.title(name)\n",
    "    plt.show"
   ]
  },
  {
   "cell_type": "markdown",
   "metadata": {},
   "source": [
    "* Let's try to build something better with Random Forest"
   ]
  },
  {
   "cell_type": "markdown",
   "metadata": {},
   "source": [
    "## Hyperparameter Search"
   ]
  },
  {
   "cell_type": "code",
   "execution_count": null,
   "metadata": {
    "execution": {
     "iopub.execute_input": "2024-10-09T07:02:49.342263Z",
     "iopub.status.busy": "2024-10-09T07:02:49.341867Z",
     "iopub.status.idle": "2024-10-09T07:02:49.354388Z",
     "shell.execute_reply": "2024-10-09T07:02:49.35293Z",
     "shell.execute_reply.started": "2024-10-09T07:02:49.342222Z"
    },
    "trusted": true
   },
   "outputs": [],
   "source": [
    "model_params = {\n",
    "    \"Random Forest\" :\n",
    "    {\n",
    "        \"model\": RandomForestClassifier(),\n",
    "        \"params\":\n",
    "        {\n",
    "            \"n_estimators\":[10,50,100,200,500],\n",
    "            \"max_features\":[\"auto\",\"sqrt\",\"log2\"],\n",
    "            \"max_depth\":list(range(1,15,3))\n",
    "        }\n",
    "    }\n",
    "}\n",
    "model_params"
   ]
  },
  {
   "cell_type": "code",
   "execution_count": null,
   "metadata": {
    "execution": {
     "iopub.execute_input": "2024-10-09T07:02:49.356385Z",
     "iopub.status.busy": "2024-10-09T07:02:49.355956Z",
     "iopub.status.idle": "2024-10-09T07:04:42.878977Z",
     "shell.execute_reply": "2024-10-09T07:04:42.877628Z",
     "shell.execute_reply.started": "2024-10-09T07:02:49.356338Z"
    },
    "trusted": true
   },
   "outputs": [],
   "source": [
    "cv = RepeatedStratifiedKFold(n_splits=5,n_repeats=2)\n",
    "scores=[]\n",
    "for model_name,params in model_params.items():\n",
    "    rs = RandomizedSearchCV(params[\"model\"],params[\"params\"],cv=cv,n_iter=10)\n",
    "    rs.fit(X,y)\n",
    "    scores.append([model_name,dict(rs.best_params_),rs.best_score_])\n",
    "scores"
   ]
  },
  {
   "cell_type": "markdown",
   "metadata": {},
   "source": [
    "> A slight improvement, but still not a result we can call very good. Although trying different models could take us further, we can stop here for now."
   ]
  },
  {
   "cell_type": "code",
   "execution_count": null,
   "metadata": {
    "execution": {
     "iopub.execute_input": "2024-10-09T07:18:46.354536Z",
     "iopub.status.busy": "2024-10-09T07:18:46.353927Z",
     "iopub.status.idle": "2024-10-09T07:18:46.865975Z",
     "shell.execute_reply": "2024-10-09T07:18:46.864341Z",
     "shell.execute_reply.started": "2024-10-09T07:18:46.354482Z"
    },
    "trusted": true
   },
   "outputs": [],
   "source": [
    "plt.figure(figsize=(6,5))\n",
    "sns.heatmap(cm, annot=True, fmt='g', cmap='Blues')\n",
    "plt.title(\"Confusion Matrix - Random Forest\")\n",
    "plt.xlabel(\"Predicted Label\")\n",
    "plt.ylabel(\"True Label\")\n",
    "plt.show()"
   ]
  },
  {
   "cell_type": "markdown",
   "metadata": {},
   "source": [
    "# Conclusion"
   ]
  },
  {
   "cell_type": "markdown",
   "metadata": {},
   "source": [
    "We can’t say we wrote the best code in the world, but we’ve definitely made progress. Much better results can be achieved with different models and approaches. If you have any experiments or feedback, I’m here and happy to assist. Stay healthy!"
   ]
  }
 ],
 "metadata": {
  "kaggle": {
   "accelerator": "none",
   "dataSources": [
    {
     "datasetId": 1292407,
     "sourceId": 2157486,
     "sourceType": "datasetVersion"
    }
   ],
   "dockerImageVersionId": 30786,
   "isGpuEnabled": false,
   "isInternetEnabled": true,
   "language": "python",
   "sourceType": "notebook"
  },
  "kernelspec": {
   "display_name": "Python 3",
   "language": "python",
   "name": "python3"
  },
  "language_info": {
   "codemirror_mode": {
    "name": "ipython",
    "version": 3
   },
   "file_extension": ".py",
   "mimetype": "text/x-python",
   "name": "python",
   "nbconvert_exporter": "python",
   "pygments_lexer": "ipython3",
   "version": "3.12.6"
  }
 },
 "nbformat": 4,
 "nbformat_minor": 4
}
